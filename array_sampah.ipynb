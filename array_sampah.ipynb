{
 "cells": [
  {
   "cell_type": "code",
   "execution_count": 1,
   "metadata": {},
   "outputs": [],
   "source": [
    "import numpy as np\n",
    "sampah_wilayah1 = np.array([1.2, 1.5, 1.3, 1.7, 1.6, 1.4, 1.1, 1.8, 1.5, 1.9,\n",
    "                            1.3, 1.6, 1.7, 1.4, 1.2, 1.5, 1.3, 1.9, 1.8, 1.7,\n",
    "                            1.5, 1.3, 1.2, 1.4, 1.6, 1.5, 1.9, 1.8, 1.6, 1.7])\n",
    "\n",
    "sampah_wilayah2 = np.array([1.1, 1.3, 1.4, 1.6, 1.5, 1.7, 1.2, 1.6, 1.7, 1.8,\n",
    "                            1.4, 1.5, 1.6, 1.3, 1.1, 1.4, 1.5, 1.8, 1.7, 1.6,\n",
    "                            1.4, 1.2, 1.3, 1.5, 1.7, 1.6, 1.8, 1.5, 1.9, 1.8])"
   ]
  },
  {
   "cell_type": "code",
   "execution_count": 3,
   "metadata": {},
   "outputs": [
    {
     "name": "stdout",
     "output_type": "stream",
     "text": [
      "total sampah wilayah 1 adalah: 45.9 ton\n",
      "total sampah wilayah 2 adalah: 45.5 ton\n"
     ]
    }
   ],
   "source": [
    "#nomer 1 menghitung total sampah wilayah 1 dan 2\n",
    "sw1 = sum(sampah_wilayah1)\n",
    "sw2 = sum(sampah_wilayah2)\n",
    "print(f\"total sampah wilayah 1 adalah: {sw1} ton\")\n",
    "print(f\"total sampah wilayah 2 adalah: {sw2:.1f} ton\")"
   ]
  },
  {
   "cell_type": "code",
   "execution_count": 17,
   "metadata": {},
   "outputs": [
    {
     "name": "stdout",
     "output_type": "stream",
     "text": [
      "hari dimana wilayah1 mengumpulkan lebih banyak sampah adalah: [1, 2, 4, 5, 8, 10, 12, 13, 14, 15, 16, 18, 19, 20, 21, 22, 27, 28]\n",
      "hari dimana wilayah2 mengumpulkan lebih banyak sampah adalah: [3, 6, 7, 9, 11, 17, 23, 24, 25, 26, 29, 30]\n"
     ]
    }
   ],
   "source": [
    "#nomer 2 menentukan hari dimana wilayah1 mengumpulkan lebih banyak sampah daripada wilayah2 dan sebaliknya\n",
    "sw1 = []\n",
    "sw2 = []\n",
    "for i in range(len(sampah_wilayah1)):\n",
    "    if sampah_wilayah1[i]>sampah_wilayah2[i]:\n",
    "        sw1.append(i+1)\n",
    "    else:\n",
    "        sw2.append(i+1)\n",
    "print(f\"hari dimana wilayah1 mengumpulkan lebih banyak sampah adalah: {sw1}\")\n",
    "print(f\"hari dimana wilayah2 mengumpulkan lebih banyak sampah adalah: {sw2}\")"
   ]
  },
  {
   "cell_type": "code",
   "execution_count": 18,
   "metadata": {},
   "outputs": [
    {
     "name": "stdout",
     "output_type": "stream",
     "text": [
      "jumlah sampah yang dihasilkan pada hari ke1 adalah: 2.3 ton\n",
      "jumlah sampah yang dihasilkan pada hari ke2 adalah: 2.8 ton\n",
      "jumlah sampah yang dihasilkan pada hari ke3 adalah: 2.7 ton\n",
      "jumlah sampah yang dihasilkan pada hari ke4 adalah: 3.3 ton\n",
      "jumlah sampah yang dihasilkan pada hari ke5 adalah: 3.1 ton\n",
      "jumlah sampah yang dihasilkan pada hari ke6 adalah: 3.0999999999999996 ton\n",
      "jumlah sampah yang dihasilkan pada hari ke7 adalah: 2.3 ton\n",
      "jumlah sampah yang dihasilkan pada hari ke8 adalah: 3.4000000000000004 ton\n",
      "jumlah sampah yang dihasilkan pada hari ke9 adalah: 3.2 ton\n",
      "jumlah sampah yang dihasilkan pada hari ke10 adalah: 3.7 ton\n",
      "jumlah sampah yang dihasilkan pada hari ke11 adalah: 2.7 ton\n",
      "jumlah sampah yang dihasilkan pada hari ke12 adalah: 3.1 ton\n",
      "jumlah sampah yang dihasilkan pada hari ke13 adalah: 3.3 ton\n",
      "jumlah sampah yang dihasilkan pada hari ke14 adalah: 2.7 ton\n",
      "jumlah sampah yang dihasilkan pada hari ke15 adalah: 2.3 ton\n",
      "jumlah sampah yang dihasilkan pada hari ke16 adalah: 2.9 ton\n",
      "jumlah sampah yang dihasilkan pada hari ke17 adalah: 2.8 ton\n",
      "jumlah sampah yang dihasilkan pada hari ke18 adalah: 3.7 ton\n",
      "jumlah sampah yang dihasilkan pada hari ke19 adalah: 3.5 ton\n",
      "jumlah sampah yang dihasilkan pada hari ke20 adalah: 3.3 ton\n",
      "jumlah sampah yang dihasilkan pada hari ke21 adalah: 2.9 ton\n",
      "jumlah sampah yang dihasilkan pada hari ke22 adalah: 2.5 ton\n",
      "jumlah sampah yang dihasilkan pada hari ke23 adalah: 2.5 ton\n",
      "jumlah sampah yang dihasilkan pada hari ke24 adalah: 2.9 ton\n",
      "jumlah sampah yang dihasilkan pada hari ke25 adalah: 3.3 ton\n",
      "jumlah sampah yang dihasilkan pada hari ke26 adalah: 3.1 ton\n",
      "jumlah sampah yang dihasilkan pada hari ke27 adalah: 3.7 ton\n",
      "jumlah sampah yang dihasilkan pada hari ke28 adalah: 3.3 ton\n",
      "jumlah sampah yang dihasilkan pada hari ke29 adalah: 3.5 ton\n",
      "jumlah sampah yang dihasilkan pada hari ke30 adalah: 3.5 ton\n"
     ]
    }
   ],
   "source": [
    "#nomer 3 menghitung total sampah yang dihasilkan setiap harinya dikedua wilayah\n",
    "for i in range(len(sampah_wilayah1)):\n",
    "    total = sampah_wilayah1[i] + sampah_wilayah2[i]\n",
    "    print(f\"jumlah sampah yang dihasilkan pada hari ke{i+1} adalah: {total} ton\")"
   ]
  }
 ],
 "metadata": {
  "kernelspec": {
   "display_name": "Python 3",
   "language": "python",
   "name": "python3"
  },
  "language_info": {
   "codemirror_mode": {
    "name": "ipython",
    "version": 3
   },
   "file_extension": ".py",
   "mimetype": "text/x-python",
   "name": "python",
   "nbconvert_exporter": "python",
   "pygments_lexer": "ipython3",
   "version": "3.12.6"
  }
 },
 "nbformat": 4,
 "nbformat_minor": 2
}
